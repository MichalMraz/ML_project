{
 "cells": [
  {
   "cell_type": "code",
   "execution_count": 1,
   "metadata": {},
   "outputs": [],
   "source": [
    "import pandas as pd\n",
    "import numpy as np\n",
    "import torch\n",
    "import torch.nn as nn\n",
    "import torch.nn.functional as F\n",
    "import matplotlib.pyplot as plt"
   ]
  },
  {
   "cell_type": "code",
   "execution_count": 2,
   "metadata": {},
   "outputs": [],
   "source": [
    "class ScaledDotProductAttention(nn.Module):\n",
    "    def __init__(self, d_k):\n",
    "        super().__init__()\n",
    "        self.scale = d_k ** 0.5\n",
    "\n",
    "    def forward(self, Q, K, V, mask=None):\n",
    "        # Q, K, V: (batch_size, num_heads, seq_len, d_k)\n",
    "        scores = torch.matmul(Q, K.transpose(-2, -1)) / self.scale  # (B, H, L, L)\n",
    "\n",
    "        if mask is not None:\n",
    "            scores = scores.masked_fill(mask == 0, float('-inf'))\n",
    "\n",
    "        attention_weights = F.softmax(scores, dim=-1)  # (B, H, L, L)\n",
    "        output = torch.matmul(attention_weights, V)    # (B, H, L, d_k)\n",
    "        return output"
   ]
  },
  {
   "cell_type": "code",
   "execution_count": 3,
   "metadata": {},
   "outputs": [],
   "source": [
    "class MultiHeadAttention(nn.Module):\n",
    "    def __init__(self, d_embedding, num_heads):\n",
    "        super().__init__()\n",
    "        assert d_embedding % num_heads == 0\n",
    "        self.d_k = d_embedding // num_heads\n",
    "        self.num_heads = num_heads\n",
    "\n",
    "        self.W_q = nn.Linear(d_embedding, d_embedding)\n",
    "        self.W_k = nn.Linear(d_embedding, d_embedding)\n",
    "        self.W_v = nn.Linear(d_embedding, d_embedding)\n",
    "        self.W_o = nn.Linear(d_embedding, d_embedding)\n",
    "\n",
    "        self.attention = ScaledDotProductAttention(self.d_k)\n",
    "\n",
    "        self.norm = nn.LayerNorm(d_embedding)\n",
    "\n",
    "    def forward(self, x, mask=None):\n",
    "        x_input = x\n",
    "        x = self.norm(x)\n",
    "\n",
    "        B, L, d_embedding = x.size()  # Batch, Sequence Length, Embedding Dim\n",
    "        H = self.num_heads\n",
    "\n",
    "        # Linear projections\n",
    "        Q = self.W_q(x).view(B, H, L, self.d_k)  # (B, H, L, d_k)\n",
    "        K = self.W_k(x).view(B, H, L, self.d_k)\n",
    "        V = self.W_v(x).view(B, H, L, self.d_k)\n",
    "\n",
    "        # Apply attention\n",
    "        context = self.attention(Q, K, V, mask)  # (B, H, L, d_k)\n",
    "\n",
    "        # Concatenate heads\n",
    "        context = context.transpose(1, 2).contiguous().view(B, L, d_embedding)  # (B, L, d_embedding)\n",
    "\n",
    "        # Final linear projection\n",
    "        output = self.W_o(context)  # (B, L, d_embedding)\n",
    "\n",
    "        # Add (& pre-Norm)\n",
    "        #my preference is to do pre-norm for better stabiliy, even though the original paper used post-norm\n",
    "        output = x_input + output\n",
    "        return output\n"
   ]
  },
  {
   "cell_type": "code",
   "execution_count": 4,
   "metadata": {},
   "outputs": [],
   "source": [
    "class MultiHeadCrossAttention(nn.Module):\n",
    "    def __init__(self, d_embedding, num_heads):\n",
    "        super().__init__()\n",
    "        assert d_embedding % num_heads == 0\n",
    "        self.d_k = d_embedding // num_heads\n",
    "        self.num_heads = num_heads\n",
    "\n",
    "        self.W_q = nn.Linear(d_embedding, d_embedding)\n",
    "        self.W_k = nn.Linear(d_embedding, d_embedding)\n",
    "        self.W_v = nn.Linear(d_embedding, d_embedding)\n",
    "        self.W_o = nn.Linear(d_embedding, d_embedding)\n",
    "\n",
    "        self.attention = ScaledDotProductAttention(self.d_k)\n",
    "\n",
    "        self.norm = nn.LayerNorm(d_embedding)\n",
    "\n",
    "    def forward(self, x_decoder, x_encoder, mask=None):\n",
    "        assert x_decoder.size() == x_encoder.size() #x and x_encoder must have the same size\n",
    "        x_input = x_decoder\n",
    "        x_decoder = self.norm(x_decoder)\n",
    "        \n",
    "        B, L, d_embedding = x_decoder.size()  # Batch, Sequence Length, Embedding Dim\n",
    "        H = self.num_heads\n",
    "\n",
    "        # Linear projections\n",
    "        Q = self.W_q(x_encoder).view(B, H, L, self.d_k)  # (B, H, L, d_k)\n",
    "        K = self.W_k(x_encoder).view(B, H, L, self.d_k)\n",
    "        V = self.W_v(x_decoder).view(B, H, L, self.d_k)\n",
    "\n",
    "        # Apply attention\n",
    "        context = self.attention(Q, K, V, mask)  # (B, H, L, d_k)\n",
    "\n",
    "        # Concatenate heads\n",
    "        context = context.transpose(1, 2).contiguous().view(B, L, d_embedding)  # (B, L, d_embedding)\n",
    "\n",
    "        # Final linear projection\n",
    "        output = self.W_o(context)  # (B, L, d_embedding)\n",
    "\n",
    "        output = output + x_input\n",
    "        return output\n"
   ]
  },
  {
   "cell_type": "code",
   "execution_count": 5,
   "metadata": {},
   "outputs": [],
   "source": [
    "class FeedForwardNetwork(nn.Module):\n",
    "    def __init__(self, d_embedding, d_ff):\n",
    "        super().__init__()\n",
    "        self.linear1 = nn.Linear(d_embedding, d_ff)\n",
    "        self.linear2 = nn.Linear(d_ff, d_embedding)\n",
    "        self.activation = nn.ReLU()\n",
    "        self.norm = nn.LayerNorm(d_embedding)\n",
    "    \n",
    "    def forward(self, x):\n",
    "        x_input = x\n",
    "        x = self.norm(x)\n",
    "        x = self.linear1(x)\n",
    "        x = self.activation(x)\n",
    "        x = self.linear2(x)\n",
    "        x = x_input + x\n",
    "        return x"
   ]
  },
  {
   "cell_type": "code",
   "execution_count": 6,
   "metadata": {},
   "outputs": [],
   "source": [
    "class Encoder(nn.Module):\n",
    "    def __init__(self, d_embedding, num_heads, d_ff, num_layers):\n",
    "        super().__init__()\n",
    "        self.layers = nn.ModuleList([\n",
    "            MultiHeadAttention(d_embedding, num_heads),\n",
    "            FeedForwardNetwork(d_embedding, d_ff)\n",
    "        ] * num_layers)\n",
    "    \n",
    "    def forward(self, x):\n",
    "        for layer in self.layers:\n",
    "            x = layer(x)\n",
    "        return x"
   ]
  },
  {
   "cell_type": "code",
   "execution_count": 7,
   "metadata": {},
   "outputs": [],
   "source": [
    "class Decoder(nn.Module):\n",
    "    def __init__(self, encoder, d_embedding, num_heads, d_ff, num_layers):\n",
    "        super().__init__()\n",
    "        self.encoder = encoder\n",
    "        self.norm = nn.LayerNorm(d_embedding)\n",
    "        self.layers = nn.ModuleList([\n",
    "            MultiHeadAttention(d_embedding, num_heads),\n",
    "            MultiHeadCrossAttention(d_embedding, num_heads),\n",
    "            FeedForwardNetwork(d_embedding, d_ff)\n",
    "        ] * num_layers)\n",
    "    \n",
    "    def forward(self, x_decoder, x_encoder):\n",
    "        for i, layer in enumerate(self.layers):\n",
    "            if i % 3 == 1:\n",
    "                x_decoder = layer(x_decoder, x_encoder)\n",
    "            else:\n",
    "                x_decoder = layer(x_decoder)\n",
    "        return x_decoder"
   ]
  },
  {
   "cell_type": "code",
   "execution_count": null,
   "metadata": {},
   "outputs": [],
   "source": []
  },
  {
   "cell_type": "code",
   "execution_count": null,
   "metadata": {},
   "outputs": [],
   "source": []
  },
  {
   "cell_type": "code",
   "execution_count": null,
   "metadata": {},
   "outputs": [],
   "source": []
  },
  {
   "cell_type": "code",
   "execution_count": 8,
   "metadata": {},
   "outputs": [
    {
     "name": "stdout",
     "output_type": "stream",
     "text": [
      "torch.Size([2, 5, 64])\n"
     ]
    }
   ],
   "source": [
    "# Dummy input\n",
    "batch_size = 2\n",
    "seq_len = 5\n",
    "d_embedding = 64\n",
    "num_heads = 8\n",
    "\n",
    "x = torch.randn(batch_size, seq_len, d_embedding)\n",
    "\n",
    "# Apply attention\n",
    "mha = MultiHeadAttention(d_embedding, num_heads)\n",
    "output = mha(x)\n",
    "print(output.shape)  # (2, 5, 64)\n"
   ]
  },
  {
   "cell_type": "code",
   "execution_count": 9,
   "metadata": {},
   "outputs": [
    {
     "name": "stdout",
     "output_type": "stream",
     "text": [
      "torch.Size([2, 5, 64])\n"
     ]
    }
   ],
   "source": [
    "ffn = FeedForwardNetwork(d_embedding, 256)\n",
    "output_2 = ffn(x)\n",
    "print(output_2.shape)"
   ]
  },
  {
   "cell_type": "code",
   "execution_count": 10,
   "metadata": {},
   "outputs": [
    {
     "name": "stdout",
     "output_type": "stream",
     "text": [
      "torch.Size([2, 5, 64])\n"
     ]
    }
   ],
   "source": [
    "d_ff = 256\n",
    "num_layers = 6\n",
    "encoder = Encoder(d_embedding, num_heads, d_ff, num_layers)\n",
    "output_3 = encoder(x)\n",
    "print(output_3.shape)"
   ]
  },
  {
   "cell_type": "markdown",
   "metadata": {},
   "source": [
    "project idea \\\n",
    "it can predict sequence of numbers, in words. \\\n",
    "two four six eight ten - twelve \\\n",
    "three six nine twelve - fifteen \\\n",
    "could be arithmetic and geometric. I will generate them, code up the number to string mapper, pass it mapped to strings"
   ]
  },
  {
   "cell_type": "code",
   "execution_count": null,
   "metadata": {},
   "outputs": [],
   "source": []
  }
 ],
 "metadata": {
  "kernelspec": {
   "display_name": "ml_project_venv",
   "language": "python",
   "name": "python3"
  },
  "language_info": {
   "codemirror_mode": {
    "name": "ipython",
    "version": 3
   },
   "file_extension": ".py",
   "mimetype": "text/x-python",
   "name": "python",
   "nbconvert_exporter": "python",
   "pygments_lexer": "ipython3",
   "version": "3.7.6"
  }
 },
 "nbformat": 4,
 "nbformat_minor": 2
}
