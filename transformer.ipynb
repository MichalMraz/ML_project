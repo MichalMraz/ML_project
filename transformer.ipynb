{
 "cells": [
  {
   "cell_type": "code",
   "execution_count": 1,
   "metadata": {},
   "outputs": [
    {
     "name": "stderr",
     "output_type": "stream",
     "text": [
      "/Users/michalmraz/Desktop/ML_project/ml_project_venv/lib/python3.7/site-packages/tqdm/auto.py:21: TqdmWarning: IProgress not found. Please update jupyter and ipywidgets. See https://ipywidgets.readthedocs.io/en/stable/user_install.html\n",
      "  from .autonotebook import tqdm as notebook_tqdm\n"
     ]
    }
   ],
   "source": [
    "import pandas as pd\n",
    "import numpy as np\n",
    "import torch\n",
    "import torch.nn as nn\n",
    "import torch.nn.functional as F\n",
    "import matplotlib.pyplot as plt\n",
    "import math\n",
    "from datasets import load_dataset\n",
    "# from torchinfo import summary\n",
    "from tqdm import tqdm\n",
    "from torch.utils.data import Dataset, DataLoader\n",
    "from transformers import AutoTokenizer"
   ]
  },
  {
   "cell_type": "code",
   "execution_count": 2,
   "metadata": {},
   "outputs": [],
   "source": [
    "def generate_causal_mask(seq_len):\n",
    "    # Create a matrix with ones in the lower triangle, zeros above\n",
    "    mask = torch.tril(torch.ones(seq_len, seq_len))\n",
    "    return mask  # shape (seq_len, seq_len)"
   ]
  },
  {
   "cell_type": "code",
   "execution_count": 7,
   "metadata": {},
   "outputs": [],
   "source": [
    "class ScaledDotProductAttention(nn.Module):\n",
    "    def __init__(self, d_k):\n",
    "        super().__init__()\n",
    "        self.scale = d_k ** 0.5\n",
    "\n",
    "    def forward(self, Q, K, V, causal_mask=False, padding_mask=None):\n",
    "        # Q, K, V: (batch_size, num_heads, seq_len, d_k)\n",
    "        scores = torch.matmul(Q, K.transpose(-2, -1)) / self.scale  # (B, H, L, L)\n",
    "\n",
    "        if causal_mask:\n",
    "            causal_mask = generate_causal_mask(scores.size(-1)).expand(scores.size(0), scores.size(1), -1, -1).to(scores.device)\n",
    "            scores = scores.masked_fill(causal_mask == 0, float('-inf'))\n",
    "        if padding_mask is not None:\n",
    "            padding_mask = padding_mask.unsqueeze(1).unsqueeze(2)  # (batch, 1, 1, seq_len)\n",
    "            scores = scores.masked_fill(padding_mask == 0, float('-inf'))  # Mask out pad positions\n",
    "\n",
    "        attention_weights = F.softmax(scores, dim=-1)  # (B, H, L, L)\n",
    "        output = torch.matmul(attention_weights, V)    # (B, H, L, d_k)\n",
    "        return output"
   ]
  },
  {
   "cell_type": "code",
   "execution_count": 8,
   "metadata": {},
   "outputs": [],
   "source": [
    "class MultiHeadAttention(nn.Module):\n",
    "    def __init__(self, d_embedding, num_heads):\n",
    "        super().__init__()\n",
    "        assert d_embedding % num_heads == 0\n",
    "        self.d_k = d_embedding // num_heads\n",
    "        self.num_heads = num_heads\n",
    "\n",
    "        #in reality these can map to a lower dimensional space to make things faster``\n",
    "        self.W_q = nn.Linear(d_embedding, d_embedding)\n",
    "        self.W_k = nn.Linear(d_embedding, d_embedding)\n",
    "        self.W_v = nn.Linear(d_embedding, d_embedding)\n",
    "        self.W_o = nn.Linear(d_embedding, d_embedding)\n",
    "\n",
    "        self.attention = ScaledDotProductAttention(self.d_k)\n",
    "\n",
    "        self.norm = nn.LayerNorm(d_embedding)\n",
    "\n",
    "    def forward(self, x, causal_mask=False, padding_mask=None):\n",
    "        x_input = x\n",
    "        x = self.norm(x)\n",
    "\n",
    "        B, L, d_embedding = x.size()  # Batch, Sequence Length, Embedding Dim\n",
    "        H = self.num_heads\n",
    "\n",
    "        # Linear projections\n",
    "        Q = self.W_q(x).view(B, L, H, self.d_k).transpose(1, 2)  # (B, H, L, d_k)\n",
    "        K = self.W_k(x).view(B, L, H, self.d_k).transpose(1, 2)\n",
    "        V = self.W_v(x).view(B, L, H, self.d_k).transpose(1, 2)\n",
    "\n",
    "        # Apply attention\n",
    "        context = self.attention(Q, K, V, causal_mask, padding_mask)  # (B, H, L, d_k)\n",
    "\n",
    "        # Concatenate heads\n",
    "        context = context.transpose(1, 2).contiguous().view(B, L, d_embedding)  # (B, L, d_embedding)\n",
    "\n",
    "        # Final linear projection\n",
    "        output = self.W_o(context)  # (B, L, d_embedding)\n",
    "\n",
    "        # Add (& pre-Norm)\n",
    "        #my preference is to do pre-norm for better stabiliy, even though the original paper used post-norm\n",
    "        output = x_input + output\n",
    "        return output\n"
   ]
  },
  {
   "cell_type": "code",
   "execution_count": 9,
   "metadata": {},
   "outputs": [],
   "source": [
    "class MultiHeadCrossAttention(nn.Module):\n",
    "    def __init__(self, d_embedding, num_heads):\n",
    "        super().__init__()\n",
    "        assert d_embedding % num_heads == 0\n",
    "        self.d_k = d_embedding // num_heads\n",
    "        self.num_heads = num_heads\n",
    "\n",
    "        self.W_q = nn.Linear(d_embedding, d_embedding)\n",
    "        self.W_k = nn.Linear(d_embedding, d_embedding)\n",
    "        self.W_v = nn.Linear(d_embedding, d_embedding)\n",
    "        self.W_o = nn.Linear(d_embedding, d_embedding)\n",
    "\n",
    "        self.attention = ScaledDotProductAttention(self.d_k)\n",
    "\n",
    "        self.norm = nn.LayerNorm(d_embedding)\n",
    "\n",
    "    def forward(self, x_decoder, x_encoder, causal_mask=False, padding_mask=None):\n",
    "        assert x_decoder.size() == x_encoder.size() #x and x_encoder must have the same size\n",
    "        x_input = x_decoder\n",
    "        x_decoder = self.norm(x_decoder)\n",
    "        \n",
    "        B, L, d_embedding = x_decoder.size()  # Batch, Sequence Length, Embedding Dim\n",
    "        H = self.num_heads\n",
    "\n",
    "        # Linear projections\n",
    "        Q = self.W_q(x_decoder).view(B, L, H, self.d_k).transpose(1, 2)  # (B, H, L, d_k)\n",
    "        K = self.W_k(x_encoder).view(B, L, H, self.d_k).transpose(1, 2)\n",
    "        V = self.W_v(x_encoder).view(B, L, H, self.d_k).transpose(1, 2)\n",
    "\n",
    "        # Apply attention\n",
    "        context = self.attention(Q, K, V, causal_mask, padding_mask)  # (B, H, L, d_k)\n",
    "\n",
    "        # Concatenate heads\n",
    "        context = context.transpose(1, 2).contiguous().view(B, L, d_embedding)  # (B, L, d_embedding)\n",
    "\n",
    "        # Final linear projection\n",
    "        output = self.W_o(context)  # (B, L, d_embedding)\n",
    "\n",
    "        output = output + x_input\n",
    "        return output\n"
   ]
  },
  {
   "cell_type": "code",
   "execution_count": 10,
   "metadata": {},
   "outputs": [],
   "source": [
    "class FeedForwardNetwork(nn.Module):\n",
    "    def __init__(self, d_embedding, d_ff):\n",
    "        super().__init__()\n",
    "        self.linear1 = nn.Linear(d_embedding, d_ff)\n",
    "        self.linear2 = nn.Linear(d_ff, d_embedding)\n",
    "        self.activation = nn.ReLU()\n",
    "        self.norm = nn.LayerNorm(d_embedding)\n",
    "    \n",
    "    def forward(self, x):\n",
    "        x_input = x\n",
    "        x = self.norm(x)\n",
    "        x = self.linear1(x)\n",
    "        x = self.activation(x)\n",
    "        x = self.linear2(x)\n",
    "        x = x_input + x\n",
    "        return x"
   ]
  },
  {
   "cell_type": "code",
   "execution_count": 11,
   "metadata": {},
   "outputs": [],
   "source": [
    "class Encoder(nn.Module):\n",
    "    def __init__(self, d_embedding, num_heads, d_ff, num_layers):\n",
    "        super().__init__()\n",
    "        self.layers = nn.ModuleList([\n",
    "            MultiHeadAttention(d_embedding, num_heads),\n",
    "            FeedForwardNetwork(d_embedding, d_ff)\n",
    "        ] * num_layers)\n",
    "    \n",
    "    def forward(self, x, causal_mask=False, padding_mask=None):\n",
    "        for i, layer in enumerate(self.layers):\n",
    "            if i % 2 == 0:\n",
    "                x = layer(x, causal_mask=causal_mask, padding_mask=padding_mask)\n",
    "            else:\n",
    "                x = layer(x)\n",
    "        return x"
   ]
  },
  {
   "cell_type": "code",
   "execution_count": 12,
   "metadata": {},
   "outputs": [],
   "source": [
    "class Decoder(nn.Module):\n",
    "    def __init__(self, encoder, d_embedding, num_heads, d_ff, num_layers, vocab_size):\n",
    "        super().__init__()\n",
    "        self.encoder = encoder\n",
    "        self.layers = nn.ModuleList([\n",
    "            MultiHeadAttention(d_embedding, num_heads),\n",
    "            MultiHeadCrossAttention(d_embedding, num_heads),\n",
    "            FeedForwardNetwork(d_embedding, d_ff)\n",
    "        ] * num_layers)\n",
    "        self.linear = nn.Linear(d_embedding, vocab_size)\n",
    "        self.softmax = nn.Softmax(dim=-1)\n",
    "\n",
    "    def forward(self, x_decoder, x_encoder, causal_mask=False, encoder_padding_mask=None, decoder_padding_mask=None, inference=False):\n",
    "        for i, layer in enumerate(self.layers):\n",
    "            if i % 3 == 0:\n",
    "                x_decoder = layer(x_decoder, causal_mask=causal_mask, padding_mask=decoder_padding_mask)\n",
    "            elif i % 3 == 1:\n",
    "                x_decoder = layer(x_decoder, x_encoder, causal_mask=False, padding_mask=encoder_padding_mask)\n",
    "            else:\n",
    "                x_decoder = layer(x_decoder)\n",
    "        x_decoder = self.linear(x_decoder)\n",
    "        if inference:\n",
    "            x_decoder = self.softmax(x_decoder)\n",
    "        return x_decoder"
   ]
  },
  {
   "cell_type": "code",
   "execution_count": null,
   "metadata": {},
   "outputs": [],
   "source": [
    "class Embedding(nn.Module):\n",
    "    def __init__(self, vocab_size, d_embedding, max_len): \n",
    "        #max_len is the maximum length of the input sequence\n",
    "        super().__init__()\n",
    "        self.embedding = nn.Parameter(torch.randn(vocab_size, d_embedding))\n",
    "\n",
    "        pe = torch.zeros(max_len, d_embedding)\n",
    "        powers = torch.repeat_interleave(torch.arange(0, 1, 2/d_embedding), repeats=2).expand(max_len, -1)\n",
    "        divisors = torch.pow(10000, powers)\n",
    "        positions = torch.arange(0, max_len).view(max_len, -1).expand(-1, d_embedding)\n",
    "        args = positions / divisors\n",
    "        pe[:, 0::2] = torch.sin(args[:, 0::2])\n",
    "        pe[:, 1::2] = torch.cos(args[:, 1::2])\n",
    "\n",
    "        # Register as buffer so it's not a parameter but moves with `.to(device)`\n",
    "        self.register_buffer('pe', pe)\n",
    "\n",
    "    def forward(self, x):\n",
    "        \"\"\"\n",
    "        Args:\n",
    "            x: Tensor of shape (batch_size, seq_len)\n",
    "        Returns:\n",
    "            Tensor of shape (batch_size, seq_len, d_embedding)\n",
    "        \"\"\"\n",
    "        seq_len = x.size(1)\n",
    "        # Add positional encoding: broadcast over batch dimension\n",
    "        x = self.embedding[x] + self.pe[:seq_len]\n",
    "        return x"
   ]
  },
  {
   "cell_type": "code",
   "execution_count": 23,
   "metadata": {},
   "outputs": [],
   "source": [
    "def create_padding_mask(padded_input, pad_token_id=0):\n",
    "    return (padded_input != pad_token_id).int()  # shape: (batch, seq_len)"
   ]
  },
  {
   "cell_type": "code",
   "execution_count": 24,
   "metadata": {},
   "outputs": [],
   "source": [
    "class Transformer(nn.Module):\n",
    "    def __init__(self, vocab_size, d_embedding, num_heads, d_ff, num_layers, max_len):\n",
    "        super().__init__()\n",
    "        self.embedding = Embedding(vocab_size, d_embedding, max_len)\n",
    "        self.encoder = Encoder(d_embedding, num_heads, d_ff, num_layers)\n",
    "        self.decoder = Decoder(self.encoder, d_embedding, num_heads, d_ff, num_layers, vocab_size)\n",
    "\n",
    "    def forward(self, x_encoder, x_decoder, causal_mask=False):\n",
    "        encoder_padding_mask = create_padding_mask(x_encoder)\n",
    "        decoder_padding_mask = create_padding_mask(x_decoder)\n",
    "\n",
    "        x_encoder = self.embedding(x_encoder)\n",
    "        x_decoder = self.embedding(x_decoder)\n",
    "        x_encoder = self.encoder(x_encoder, causal_mask=False, padding_mask=encoder_padding_mask)\n",
    "        output = self.decoder(x_decoder, x_encoder, causal_mask=causal_mask, encoder_padding_mask=encoder_padding_mask, decoder_padding_mask=decoder_padding_mask)\n",
    "        return output"
   ]
  },
  {
   "cell_type": "code",
   "execution_count": null,
   "metadata": {},
   "outputs": [],
   "source": [
    "# params\n",
    "vocab_size = 50257\n",
    "max_len = 32\n",
    "d_embedding = 128\n",
    "d_ff = 512\n",
    "num_heads = 8\n",
    "num_layers = 6\n",
    "# Dummy input extras\n",
    "seq_len = 5\n",
    "batch_size = 2\n",
    "\n",
    "x_test = torch.randn(batch_size, seq_len, d_embedding)\n"
   ]
  },
  {
   "cell_type": "code",
   "execution_count": 25,
   "metadata": {},
   "outputs": [],
   "source": [
    "transformer = Transformer(\n",
    "    vocab_size=vocab_size,\n",
    "    d_embedding=d_embedding,\n",
    "    num_heads=num_heads,\n",
    "    d_ff=d_ff,\n",
    "    num_layers=num_layers,\n",
    "    max_len=max_len)"
   ]
  },
  {
   "cell_type": "code",
   "execution_count": 31,
   "metadata": {},
   "outputs": [],
   "source": [
    "# data = load_dataset('opus_books', 'en-sk')"
   ]
  },
  {
   "cell_type": "code",
   "execution_count": null,
   "metadata": {},
   "outputs": [],
   "source": [
    "data = pd.read_csv('en_sk_sentence_pairs.csv', sep=';')"
   ]
  },
  {
   "cell_type": "code",
   "execution_count": null,
   "metadata": {},
   "outputs": [],
   "source": [
    "tokenizer = AutoTokenizer.from_pretrained(\"gpt2\")  # small, open tokenizer\n",
    "tokenizer.pad_token = tokenizer.eos_token\n",
    "# Or for BERT-style:\n",
    "# tokenizer = AutoTokenizer.from_pretrained(\"bert-base-uncased\")"
   ]
  },
  {
   "cell_type": "code",
   "execution_count": null,
   "metadata": {},
   "outputs": [],
   "source": [
    "tokenized = [{\n",
    "    'en': tokenizer(data.iloc[i]['sentence_en'], return_tensors='pt', padding='max_length', max_length=max_len, truncation=True)['input_ids'],\n",
    "    'sk': tokenizer(data.iloc[i]['sentence_sk'], return_tensors='pt', padding='max_length', max_length=max_len, truncation=True)['input_ids']\n",
    "} for i in range(data.shape[0])]"
   ]
  },
  {
   "cell_type": "code",
   "execution_count": null,
   "metadata": {},
   "outputs": [],
   "source": [
    "class TranslationDataset(Dataset):\n",
    "    def __init__(self, tokenized):\n",
    "        self.tokenized = tokenized\n",
    "\n",
    "    def __len__(self):\n",
    "        return len(self.tokenized)\n",
    "\n",
    "    def __getitem__(self, idx):\n",
    "        return (self.tokenized[idx]['en'], self.tokenized[idx]['sk'])\n",
    "\n",
    "# tokenizer = AutoTokenizer.from_pretrained(\"gpt2\")\n",
    "# tokenizer.pad_token = tokenizer.eos_token\n",
    "# dataset = TranslationDataset(examples, tokenizer)\n",
    "dataset = TranslationDataset(tokenized)\n",
    "dataloader = DataLoader(dataset, batch_size=512, shuffle=True)"
   ]
  },
  {
   "cell_type": "code",
   "execution_count": null,
   "metadata": {},
   "outputs": [
    {
     "name": "stderr",
     "output_type": "stream",
     "text": [
      "  0%|          | 0/52 [00:00<?, ?it/s]"
     ]
    }
   ],
   "source": [
    "cel = torch.nn.CrossEntropyLoss(ignore_index=50256)\n",
    "\n",
    "optimizer = torch.optim.Adam(transformer.parameters(), lr=1e-4)"
   ]
  },
  {
   "cell_type": "code",
   "execution_count": null,
   "metadata": {},
   "outputs": [],
   "source": [
    "for batch_data, batch_labels in tqdm(dataloader):\n",
    "    # print(batch_data.shape, batch_labels.shape)\n",
    "    batch_data = batch_data.squeeze(1)  # Remove the extra dimension\n",
    "    batch_labels = batch_labels.squeeze(1)  # Remove the extra dimension\n",
    "\n",
    "    optimizer.zero_grad()\n",
    "    output = transformer(batch_data, batch_data, causal_mask=True)\n",
    "    loss = cel(output.permute(0, 2, 1), batch_labels)\n",
    "\n",
    "    loss.backward()\n",
    "    torch.nn.utils.clip_grad_norm_(transformer.parameters(), 1.0)\n",
    "    optimizer.step()\n",
    "    print(f\"Batch Loss: {loss.item()}\")\n"
   ]
  },
  {
   "cell_type": "code",
   "execution_count": null,
   "metadata": {},
   "outputs": [],
   "source": []
  },
  {
   "cell_type": "code",
   "execution_count": null,
   "metadata": {},
   "outputs": [],
   "source": []
  },
  {
   "cell_type": "code",
   "execution_count": null,
   "metadata": {},
   "outputs": [],
   "source": []
  },
  {
   "cell_type": "markdown",
   "metadata": {},
   "source": [
    "project idea \\\n",
    "it can predict sequence of numbers, in words. \\\n",
    "two four six eight ten - twelve \\\n",
    "three six nine twelve - fifteen \\\n",
    "could be arithmetic and geometric. I will generate them, code up the number to string mapper, pass it mapped to strings"
   ]
  },
  {
   "cell_type": "code",
   "execution_count": null,
   "metadata": {},
   "outputs": [],
   "source": []
  }
 ],
 "metadata": {
  "kernelspec": {
   "display_name": "ml_project_venv",
   "language": "python",
   "name": "python3"
  },
  "language_info": {
   "codemirror_mode": {
    "name": "ipython",
    "version": 3
   },
   "file_extension": ".py",
   "mimetype": "text/x-python",
   "name": "python",
   "nbconvert_exporter": "python",
   "pygments_lexer": "ipython3",
   "version": "3.7.6"
  }
 },
 "nbformat": 4,
 "nbformat_minor": 2
}
