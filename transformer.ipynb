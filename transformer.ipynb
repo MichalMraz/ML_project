{
 "cells": [
  {
   "cell_type": "code",
   "execution_count": null,
   "metadata": {},
   "outputs": [],
   "source": []
  },
  {
   "cell_type": "code",
   "execution_count": 2,
   "metadata": {},
   "outputs": [
    {
     "name": "stderr",
     "output_type": "stream",
     "text": [
      "/Users/michalmraz/Desktop/ML_project/ml_project_venv/lib/python3.7/site-packages/tqdm/auto.py:21: TqdmWarning: IProgress not found. Please update jupyter and ipywidgets. See https://ipywidgets.readthedocs.io/en/stable/user_install.html\n",
      "  from .autonotebook import tqdm as notebook_tqdm\n"
     ]
    }
   ],
   "source": [
    "import pandas as pd\n",
    "import numpy as np\n",
    "import torch\n",
    "import torch.nn as nn\n",
    "import torch.nn.functional as F\n",
    "import matplotlib.pyplot as plt\n",
    "import math\n",
    "import random\n",
    "from datasets import load_dataset\n",
    "# from torchinfo import summary\n",
    "from tqdm import tqdm\n",
    "from torch.utils.data import Dataset, DataLoader\n",
    "from transformers import AutoTokenizer\n",
    "from torch.optim.lr_scheduler import LambdaLR\n",
    "import requests\n",
    "import os\n",
    "import tarfile\n",
    "import re\n",
    "from IPython.display import clear_output"
   ]
  },
  {
   "cell_type": "code",
   "execution_count": 3,
   "metadata": {},
   "outputs": [],
   "source": [
    "def set_seed(seed=42):\n",
    "    torch.manual_seed(seed)\n",
    "    torch.cuda.manual_seed_all(seed)\n",
    "    np.random.seed(seed)\n",
    "    random.seed(seed)\n",
    "    torch.backends.cudnn.deterministic = True  # slower but deterministic\n",
    "    torch.backends.cudnn.benchmark = False"
   ]
  },
  {
   "cell_type": "code",
   "execution_count": 4,
   "metadata": {},
   "outputs": [],
   "source": [
    "def generate_causal_mask(seq_len):\n",
    "    # Create a matrix with ones in the lower triangle, zeros above\n",
    "    mask = torch.tril(torch.ones(seq_len, seq_len))\n",
    "    return mask  # shape (seq_len, seq_len)"
   ]
  },
  {
   "cell_type": "code",
   "execution_count": 5,
   "metadata": {},
   "outputs": [],
   "source": [
    "class ScaledDotProductAttention(nn.Module):\n",
    "    def __init__(self, d_k):\n",
    "        super().__init__()\n",
    "        self.scale = d_k ** 0.5\n",
    "\n",
    "    def forward(self, Q, K, V, causal_mask=False, padding_mask=None):\n",
    "        # Q, K, V: (batch_size, num_heads, seq_len, d_k)\n",
    "        scores = torch.matmul(Q, K.transpose(-2, -1)) / self.scale  # (B, H, L, L)\n",
    "\n",
    "        if causal_mask:\n",
    "            causal_mask = generate_causal_mask(scores.size(-1)).expand(scores.size(0), scores.size(1), -1, -1).to(scores.device)\n",
    "            scores = scores.masked_fill(causal_mask == 0, float('-inf'))\n",
    "        if padding_mask is not None:\n",
    "            padding_mask = padding_mask.unsqueeze(1).unsqueeze(2)  # (batch, 1, 1, seq_len)\n",
    "            scores = scores.masked_fill(padding_mask == 0, float('-inf'))  # Mask out pad positions\n",
    "\n",
    "        attention_weights = F.softmax(scores, dim=-1)  # (B, H, L, L)\n",
    "        output = torch.matmul(attention_weights, V)    # (B, H, L, d_k)\n",
    "        return output"
   ]
  },
  {
   "cell_type": "code",
   "execution_count": 6,
   "metadata": {},
   "outputs": [],
   "source": [
    "class MultiHeadAttention(nn.Module):\n",
    "    def __init__(self, d_embedding, num_heads, dropout=0):\n",
    "        super().__init__()\n",
    "        assert d_embedding % num_heads == 0\n",
    "        self.d_k = d_embedding // num_heads\n",
    "        self.num_heads = num_heads\n",
    "\n",
    "        #in reality these can map to a lower dimensional space to make things faster``\n",
    "        self.W_q = nn.Linear(d_embedding, d_embedding)\n",
    "        self.W_k = nn.Linear(d_embedding, d_embedding)\n",
    "        self.W_v = nn.Linear(d_embedding, d_embedding)\n",
    "        self.W_o = nn.Linear(d_embedding, d_embedding)\n",
    "\n",
    "        self.attention = ScaledDotProductAttention(self.d_k)\n",
    "\n",
    "        self.norm = nn.LayerNorm(d_embedding)\n",
    "        self.dropout = nn.Dropout(dropout)\n",
    "\n",
    "    def forward(self, x, causal_mask=False, padding_mask=None):\n",
    "        x_input = x\n",
    "        x = self.norm(x)\n",
    "\n",
    "        B, L, d_embedding = x.size()  # Batch, Sequence Length, Embedding Dim\n",
    "        H = self.num_heads\n",
    "\n",
    "        # Linear projections\n",
    "        Q = self.W_q(x).view(B, L, H, self.d_k).transpose(1, 2)  # (B, H, L, d_k)\n",
    "        K = self.W_k(x).view(B, L, H, self.d_k).transpose(1, 2)\n",
    "        V = self.W_v(x).view(B, L, H, self.d_k).transpose(1, 2)\n",
    "\n",
    "        # Apply attention\n",
    "        context = self.attention(Q, K, V, causal_mask, padding_mask)  # (B, H, L, d_k)\n",
    "\n",
    "        # Concatenate heads\n",
    "        context = context.transpose(1, 2).contiguous().view(B, L, d_embedding)  # (B, L, d_embedding)\n",
    "\n",
    "        # Final linear projection\n",
    "        output = self.W_o(context)  # (B, L, d_embedding)\n",
    "        output = self.dropout(output)\n",
    "\n",
    "        # Add (& pre-Norm)\n",
    "        #my preference is to do pre-norm for better stabiliy, even though the original paper used post-norm\n",
    "        output = x_input + output\n",
    "        return output\n"
   ]
  },
  {
   "cell_type": "code",
   "execution_count": 7,
   "metadata": {},
   "outputs": [],
   "source": [
    "class MultiHeadCrossAttention(nn.Module):\n",
    "    def __init__(self, d_embedding, num_heads, dropout=0):\n",
    "        super().__init__()\n",
    "        assert d_embedding % num_heads == 0\n",
    "        self.d_k = d_embedding // num_heads\n",
    "        self.num_heads = num_heads\n",
    "\n",
    "        self.W_q = nn.Linear(d_embedding, d_embedding)\n",
    "        self.W_k = nn.Linear(d_embedding, d_embedding)\n",
    "        self.W_v = nn.Linear(d_embedding, d_embedding)\n",
    "        self.W_o = nn.Linear(d_embedding, d_embedding)\n",
    "\n",
    "        self.attention = ScaledDotProductAttention(self.d_k)\n",
    "\n",
    "        self.norm = nn.LayerNorm(d_embedding)\n",
    "        self.dropout = nn.Dropout(dropout)\n",
    "\n",
    "    def forward(self, x_decoder, x_encoder, causal_mask=False, padding_mask=None):\n",
    "        assert x_decoder.size() == x_encoder.size() #x and x_encoder must have the same size\n",
    "        x_input = x_decoder\n",
    "        x_decoder = self.norm(x_decoder)\n",
    "        \n",
    "        B, L, d_embedding = x_decoder.size()  # Batch, Sequence Length, Embedding Dim\n",
    "        H = self.num_heads\n",
    "\n",
    "        # Linear projections\n",
    "        Q = self.W_q(x_decoder).view(B, L, H, self.d_k).transpose(1, 2)  # (B, H, L, d_k)\n",
    "        K = self.W_k(x_encoder).view(B, L, H, self.d_k).transpose(1, 2)\n",
    "        V = self.W_v(x_encoder).view(B, L, H, self.d_k).transpose(1, 2)\n",
    "\n",
    "        # Apply attention\n",
    "        context = self.attention(Q, K, V, causal_mask, padding_mask)  # (B, H, L, d_k)\n",
    "\n",
    "        # Concatenate heads\n",
    "        context = context.transpose(1, 2).contiguous().view(B, L, d_embedding)  # (B, L, d_embedding)\n",
    "\n",
    "        # Final linear projection\n",
    "        output = self.W_o(context)  # (B, L, d_embedding)\n",
    "        output = self.dropout(output)\n",
    "\n",
    "        output = output + x_input\n",
    "        return output\n"
   ]
  },
  {
   "cell_type": "code",
   "execution_count": 8,
   "metadata": {},
   "outputs": [],
   "source": [
    "class FeedForwardNetwork(nn.Module):\n",
    "    def __init__(self, d_embedding, d_ff, dropout=0):\n",
    "        super().__init__()\n",
    "        self.linear1 = nn.Linear(d_embedding, d_ff)\n",
    "        self.linear2 = nn.Linear(d_ff, d_embedding)\n",
    "        self.activation = nn.ReLU()\n",
    "        self.norm = nn.LayerNorm(d_embedding)\n",
    "        self.dropout = nn.Dropout(dropout)\n",
    "    \n",
    "    def forward(self, x):\n",
    "        x_input = x\n",
    "        x = self.norm(x)\n",
    "        x = self.linear1(x)\n",
    "        x = self.activation(x)\n",
    "        x = self.linear2(x)\n",
    "        x = self.dropout(x)\n",
    "        x = x_input + x\n",
    "        return x"
   ]
  },
  {
   "cell_type": "code",
   "execution_count": 9,
   "metadata": {},
   "outputs": [],
   "source": [
    "class Encoder(nn.Module):\n",
    "    def __init__(self, d_embedding, num_heads, d_ff, num_layers, dropout=0):\n",
    "        super().__init__()\n",
    "        self.layers = nn.ModuleList([\n",
    "            MultiHeadAttention(d_embedding, num_heads, dropout=dropout),\n",
    "            FeedForwardNetwork(d_embedding, d_ff, dropout=dropout)\n",
    "        ] * num_layers)\n",
    "    \n",
    "    def forward(self, x, causal_mask=False, padding_mask=None):\n",
    "        for i, layer in enumerate(self.layers):\n",
    "            if i % 2 == 0:\n",
    "                x = layer(x, causal_mask=causal_mask, padding_mask=padding_mask)\n",
    "            else:\n",
    "                x = layer(x)\n",
    "        return x"
   ]
  },
  {
   "cell_type": "code",
   "execution_count": 10,
   "metadata": {},
   "outputs": [],
   "source": [
    "class Decoder(nn.Module):\n",
    "    def __init__(self, encoder, d_embedding, num_heads, d_ff, num_layers, vocab_size, dropout=0):\n",
    "        super().__init__()\n",
    "        self.encoder = encoder\n",
    "        self.layers = nn.ModuleList([\n",
    "            MultiHeadAttention(d_embedding, num_heads, dropout=dropout),\n",
    "            MultiHeadCrossAttention(d_embedding, num_heads, dropout=dropout),\n",
    "            FeedForwardNetwork(d_embedding, d_ff, dropout=dropout)\n",
    "        ] * num_layers)\n",
    "        self.linear = nn.Linear(d_embedding, vocab_size)\n",
    "        self.softmax = nn.Softmax(dim=-1)\n",
    "\n",
    "    def forward(self, x_decoder, x_encoder, causal_mask=False, encoder_padding_mask=None, decoder_padding_mask=None, inference=False):\n",
    "        for i, layer in enumerate(self.layers):\n",
    "            if i % 3 == 0:\n",
    "                x_decoder = layer(x_decoder, causal_mask=causal_mask, padding_mask=decoder_padding_mask)\n",
    "            elif i % 3 == 1:\n",
    "                x_decoder = layer(x_decoder, x_encoder, causal_mask=False, padding_mask=encoder_padding_mask)\n",
    "            else:\n",
    "                x_decoder = layer(x_decoder)\n",
    "        x_decoder = self.linear(x_decoder)\n",
    "        if inference:\n",
    "            x_decoder = self.softmax(x_decoder)\n",
    "        return x_decoder"
   ]
  },
  {
   "cell_type": "code",
   "execution_count": 11,
   "metadata": {},
   "outputs": [],
   "source": [
    "class Embedding(nn.Module):\n",
    "    def __init__(self, vocab_size, d_embedding, max_len, dropout=0): \n",
    "        #max_len is the maximum length of the input sequence\n",
    "        super().__init__()\n",
    "        self.embedding = nn.Parameter(torch.randn(vocab_size, d_embedding))\n",
    "\n",
    "        pe = torch.zeros(max_len, d_embedding)\n",
    "        powers = torch.repeat_interleave(torch.arange(0, 1, 2/d_embedding), repeats=2).expand(max_len, -1)\n",
    "        divisors = torch.pow(10000, powers)\n",
    "        positions = torch.arange(0, max_len).view(max_len, -1).expand(-1, d_embedding)\n",
    "        args = positions / divisors\n",
    "        pe[:, 0::2] = torch.sin(args[:, 0::2])\n",
    "        pe[:, 1::2] = torch.cos(args[:, 1::2])\n",
    "\n",
    "        # Register as buffer so it's not a parameter but moves with `.to(device)`\n",
    "        self.register_buffer('pe', pe)\n",
    "        self.dropout = nn.Dropout(dropout)\n",
    "\n",
    "    def forward(self, x):\n",
    "        \"\"\"\n",
    "        Args:\n",
    "            x: Tensor of shape (batch_size, seq_len)\n",
    "        Returns:\n",
    "            Tensor of shape (batch_size, seq_len, d_embedding)\n",
    "        \"\"\"\n",
    "        seq_len = x.size(1)\n",
    "        # Add positional encoding: broadcast over batch dimension\n",
    "        x = self.embedding[x] + self.pe[:seq_len]\n",
    "        x = self.dropout(x)\n",
    "        return x"
   ]
  },
  {
   "cell_type": "code",
   "execution_count": 12,
   "metadata": {},
   "outputs": [],
   "source": [
    "def create_padding_mask(padded_input, pad_token_id=0):\n",
    "    return (padded_input != pad_token_id).int()  # shape: (batch, seq_len)"
   ]
  },
  {
   "cell_type": "code",
   "execution_count": 13,
   "metadata": {},
   "outputs": [],
   "source": [
    "class Transformer(nn.Module):\n",
    "    def __init__(self, vocab_size, d_embedding, num_heads, d_ff, num_layers, max_len, dropout=0):\n",
    "        super().__init__()\n",
    "        self.embedding = Embedding(vocab_size, d_embedding, max_len, dropout=dropout)\n",
    "        self.encoder = Encoder(d_embedding, num_heads, d_ff, num_layers, dropout=dropout)\n",
    "        self.decoder = Decoder(self.encoder, d_embedding, num_heads, d_ff, num_layers, vocab_size, dropout=dropout)\n",
    "\n",
    "    def forward(self, x_encoder, x_decoder, causal_mask=False):\n",
    "        encoder_padding_mask = create_padding_mask(x_encoder)\n",
    "        decoder_padding_mask = create_padding_mask(x_decoder)\n",
    "\n",
    "        x_encoder = self.embedding(x_encoder)\n",
    "        x_decoder = self.embedding(x_decoder)\n",
    "        x_encoder = self.encoder(x_encoder, causal_mask=False, padding_mask=encoder_padding_mask)\n",
    "        output = self.decoder(x_decoder, x_encoder, causal_mask=causal_mask, encoder_padding_mask=encoder_padding_mask, decoder_padding_mask=decoder_padding_mask)\n",
    "        return output"
   ]
  },
  {
   "cell_type": "code",
   "execution_count": 14,
   "metadata": {},
   "outputs": [],
   "source": [
    "# data = load_dataset('opus_books', 'en-sk')"
   ]
  },
  {
   "cell_type": "code",
   "execution_count": 15,
   "metadata": {},
   "outputs": [],
   "source": [
    "# Save the name of the model whose tokenizer we are using. We will need it later.\n",
    "PRE_TRAINED_MODEL_NAME = \"distilbert/distilbert-base-multilingual-cased\"\n",
    "\n",
    "# Download the tokenizer\n",
    "tokenizer = AutoTokenizer.from_pretrained(PRE_TRAINED_MODEL_NAME)"
   ]
  },
  {
   "cell_type": "code",
   "execution_count": 16,
   "metadata": {},
   "outputs": [],
   "source": [
    "# params\n",
    "vocab_size = tokenizer.vocab_size #119547\n",
    "max_len = 128\n",
    "d_embedding = 256\n",
    "d_ff = 1024\n",
    "num_heads = 8\n",
    "num_layers = 6\n",
    "dropout=0"
   ]
  },
  {
   "cell_type": "code",
   "execution_count": 17,
   "metadata": {},
   "outputs": [],
   "source": [
    "dont_have_presaved_data = False\n",
    "#only set to true if I don't have 'tokenized_dataset_tensor.pt' in the current folder. Takes 15 min in total to download and tokenize the dataset\n",
    "\n",
    "if dont_have_presaved_data:\n",
    "    url = \"http://www.statmt.org/europarl/v7/sk-en.tgz\"\n",
    "    filename = \"sk-en.tgz\"\n",
    "\n",
    "    if not os.path.exists(filename):\n",
    "        r = requests.get(url)\n",
    "        with open(filename, \"wb\") as w:\n",
    "            w.write(r.content)\n",
    "        print(\"File downloaded\")\n",
    "    else:\n",
    "        print(\"File already exists\")\n",
    "    # Open a gzipped tar file in read mode\n",
    "    with tarfile.open(\"sk-en.tgz\", \"r:gz\") as tar:\n",
    "        # Get a TarFile object for the archive\n",
    "        # Extract all the files and directories to the current folder\n",
    "        tar.extractall()\n",
    "    # Define a function for text cleaning\n",
    "    def clean_text(text):\n",
    "\n",
    "        # Convert text to lowercase\n",
    "        text = str(text).lower().strip()\n",
    "\n",
    "        # Remove the \\n at the end of each line in the file\n",
    "        text = text.rstrip('\\n')\n",
    "\n",
    "        # Remove HTML tags and non-alphanumeric characters\n",
    "        text = re.sub(r\"<[^>]+>\", \"\", text)\n",
    "        text = re.sub(r\"[^a-zA-ZÀ-ž0-9\\s.,;!?':()\\[\\]{}-]\", \" \", text)  # Keep selected punctuation marks, symbols and apostrophes\n",
    "\n",
    "        # Remove excessive whitespace (more than one space)\n",
    "        text = re.sub(r\"\\s+\", \" \", text)\n",
    "\n",
    "        text = text.encode(\"utf-8\", errors=\"ignore\").decode(\"utf-8\")  # Corrected encoding\n",
    "\n",
    "        return text\n",
    "    \n",
    "    # Read from the two text files, and create a pandas Series object (like a python list[]), and clean the text by\n",
    "    # applying our clean_text function to every element.\n",
    "\n",
    "    with open('europarl-v7.sk-en.en', 'r') as en_file, open('europarl-v7.sk-en.sk', 'r') as sk_file:\n",
    "        en = pd.Series(en_file.readlines(), name='en').apply(lambda text: clean_text(text))\n",
    "        sk = pd.Series(sk_file.readlines(), name='sk').apply(lambda text: clean_text(text))\n",
    "    translation_df = pd.concat([en, sk], axis=1)\n",
    "\n",
    "    # this takes over 10 min so I save the result and load it\n",
    "    tokenized = [{\n",
    "        'en': tokenizer.encode(translation_df.loc[i,'en'], return_tensors='pt', padding='max_length', max_length=max_len, truncation=True, add_special_tokens=True),\n",
    "        'sk': tokenizer.encode(translation_df.loc[i,'sk'], return_tensors='pt', padding='max_length', max_length=max_len, truncation=True, add_special_tokens=True)\n",
    "    } for i in range(translation_df.shape[0])]\n",
    "\n",
    "\n",
    "    # First, separate English and Slovak tensors\n",
    "    en_tensors = [item['en'] for item in tokenized]  \n",
    "    sk_tensors = [item['sk'] for item in tokenized]  \n",
    "\n",
    "    # Stack them into 3D tensors (num_sentences, max_len)\n",
    "    en_tensor = torch.stack(en_tensors)\n",
    "    sk_tensor = torch.stack(sk_tensors)\n",
    "    tokenized_dataset_tensor = torch.stack([en_tensor, sk_tensor])\n",
    "    torch.save(tokenized_dataset_tensor, 'tokenized_dataset_tensor.pt')\n",
    "else:\n",
    "    tokenized_dataset_tensor = torch.load('tokenized_dataset_tensor.pt')"
   ]
  },
  {
   "cell_type": "code",
   "execution_count": null,
   "metadata": {},
   "outputs": [],
   "source": []
  },
  {
   "cell_type": "code",
   "execution_count": 18,
   "metadata": {},
   "outputs": [],
   "source": [
    "# Dummy input extras\n",
    "seq_len = 5\n",
    "batch_size = 2\n",
    "\n",
    "x_test = torch.randn(batch_size, seq_len, d_embedding)"
   ]
  },
  {
   "cell_type": "code",
   "execution_count": 19,
   "metadata": {},
   "outputs": [],
   "source": [
    "set_seed(42)"
   ]
  },
  {
   "cell_type": "code",
   "execution_count": 20,
   "metadata": {},
   "outputs": [],
   "source": [
    "transformer = Transformer(\n",
    "    vocab_size=vocab_size,\n",
    "    d_embedding=d_embedding,\n",
    "    num_heads=num_heads,\n",
    "    d_ff=d_ff,\n",
    "    num_layers=num_layers,\n",
    "    max_len=max_len,\n",
    "    dropout=dropout)"
   ]
  },
  {
   "cell_type": "markdown",
   "metadata": {},
   "source": [
    "# off the shelf transformer"
   ]
  },
  {
   "cell_type": "code",
   "execution_count": 21,
   "metadata": {},
   "outputs": [],
   "source": [
    "class PositionalEncoding(nn.Module):\n",
    "    def __init__(self, d_model, max_len=max_len):\n",
    "        super().__init__()\n",
    "\n",
    "        # Create constant positional encoding matrix with shape (max_len, d_model)\n",
    "        pe = torch.zeros(max_len, d_model)\n",
    "        position = torch.arange(0, max_len).unsqueeze(1)  # (max_len, 1)\n",
    "        div_term = torch.exp(torch.arange(0, d_model, 2) * (-math.log(10000.0) / d_model))  # (d_model/2,)\n",
    "\n",
    "        # Apply sine to even indices, cosine to odd\n",
    "        pe[:, 0::2] = torch.sin(position * div_term)  # even indices\n",
    "        pe[:, 1::2] = torch.cos(position * div_term)  # odd indices\n",
    "\n",
    "        pe = pe.unsqueeze(1)  # shape (max_len, 1, d_model)\n",
    "        self.register_buffer('pe', pe)\n",
    "\n",
    "    def forward(self, x):\n",
    "        # x shape: (seq_len, batch_size, d_model)\n",
    "        x = x + self.pe[:x.size(0)]  # add positional encoding\n",
    "        return x"
   ]
  },
  {
   "cell_type": "code",
   "execution_count": 22,
   "metadata": {},
   "outputs": [],
   "source": [
    "def create_padding_mask_offtheshelf(padded_input, pad_token_id=0):\n",
    "    return (padded_input == pad_token_id)  # shape: (batch, seq_len)"
   ]
  },
  {
   "cell_type": "code",
   "execution_count": 23,
   "metadata": {},
   "outputs": [],
   "source": [
    "class TransformerModel(nn.Module):\n",
    "    def __init__(self, vocab_size, d_model=512, nhead=8, num_layers=6, dim_feedforward=2048, dropout=0.1):\n",
    "        super().__init__()\n",
    "        self.src_embedding = nn.Embedding(vocab_size, d_model)\n",
    "        self.tgt_embedding = nn.Embedding(vocab_size, d_model)\n",
    "        self.pos_encoder = PositionalEncoding(d_model)  # Your custom or built-in\n",
    "        self.transformer = nn.Transformer(d_model=d_model, nhead=nhead, num_encoder_layers=num_layers, num_decoder_layers=num_layers, dim_feedforward=dim_feedforward, dropout=dropout)\n",
    "        self.fc_out = nn.Linear(d_model, vocab_size)\n",
    "\n",
    "    def forward(self, src, tgt):\n",
    "        src_key_padding_mask = create_padding_mask_offtheshelf(src, pad_token_id=0)\n",
    "        tgt_key_padding_mask = create_padding_mask_offtheshelf(tgt, pad_token_id=0)\n",
    "        \n",
    "        src = self.pos_encoder(self.src_embedding(src).transpose(0,1))  # (S, N, E)\n",
    "        tgt = self.pos_encoder(self.tgt_embedding(tgt).transpose(0,1))  # (T, N, E)\n",
    "\n",
    "        tgt_mask = nn.Transformer.generate_square_subsequent_mask(tgt.shape[0]).to(tgt.device)  # (T, T)\n",
    "        \n",
    "        out = self.transformer(src, tgt, src_mask=None, tgt_mask=tgt_mask, src_key_padding_mask=src_key_padding_mask, tgt_key_padding_mask=tgt_key_padding_mask)\n",
    "        return self.fc_out(out)\n"
   ]
  },
  {
   "cell_type": "code",
   "execution_count": null,
   "metadata": {},
   "outputs": [],
   "source": [
    "# transformer = TransformerModel(\n",
    "#     vocab_size=vocab_size,\n",
    "#     d_model=d_embedding,\n",
    "#     nhead=num_heads,\n",
    "#     num_layers=num_layers,\n",
    "#     dim_feedforward=d_ff,\n",
    "#     dropout=dropout,\n",
    "# )"
   ]
  },
  {
   "cell_type": "code",
   "execution_count": 25,
   "metadata": {},
   "outputs": [
    {
     "data": {
      "text/plain": [
       "torch.Size([2, 128])"
      ]
     },
     "execution_count": 25,
     "metadata": {},
     "output_type": "execute_result"
    }
   ],
   "source": [
    "x_test_2 = torch.randint(0, 100, (batch_size, max_len))\n",
    "x_test_2.shape"
   ]
  },
  {
   "cell_type": "code",
   "execution_count": 26,
   "metadata": {},
   "outputs": [],
   "source": [
    "# transformer(x_test_2, x_test_2).shape"
   ]
  },
  {
   "cell_type": "markdown",
   "metadata": {},
   "source": [
    "# end of off the shelf"
   ]
  },
  {
   "cell_type": "code",
   "execution_count": 27,
   "metadata": {},
   "outputs": [],
   "source": [
    "#max_len in dataset is 566 but I'm happy to go with 512 "
   ]
  },
  {
   "cell_type": "code",
   "execution_count": 28,
   "metadata": {},
   "outputs": [],
   "source": [
    "class TranslationDataset(Dataset):\n",
    "    def __init__(self, tokenized_dataset_tensor):\n",
    "        self.tokenized_dataset_tensor = tokenized_dataset_tensor\n",
    "\n",
    "    def __len__(self):\n",
    "        return self.tokenized_dataset_tensor.shape[1]\n",
    "\n",
    "    def __getitem__(self, idx):\n",
    "        return (self.tokenized_dataset_tensor[0][idx], self.tokenized_dataset_tensor[1][idx])\n",
    "        # 0 for English, 1 for Slovak\n",
    "\n",
    "dataset = TranslationDataset(tokenized_dataset_tensor)\n",
    "dataloader = DataLoader(dataset, batch_size=16, shuffle=True)"
   ]
  },
  {
   "cell_type": "code",
   "execution_count": 29,
   "metadata": {},
   "outputs": [],
   "source": [
    "cel = torch.nn.CrossEntropyLoss(ignore_index=0)\n",
    "\n",
    "optimizer = torch.optim.Adam(transformer.parameters(), betas=(0.9, 0.98), eps=1e-9, lr=1e-4) #betas and eps from the original paper\n",
    "optimizer = torch.optim.Adam(transformer.parameters(), lr=1e-4) "
   ]
  },
  {
   "cell_type": "code",
   "execution_count": 126,
   "metadata": {},
   "outputs": [],
   "source": [
    "gradient_accumulation_steps = 5\n",
    "warmup_steps = 100 / gradient_accumulation_steps\n",
    "\n",
    "def lr_lambda(step_num): #lr decay from original paper. We use fewer warmups\n",
    "    step_num = step_num + 1 #to avoid division by zero warning at step 0\n",
    "    # return min(1/np.sqrt(step_num), step_num / math.pow(warmup_steps, 1.5)) / np.sqrt(d_embedding) #og paper lr decay\n",
    "    #default inverse square root decay at 0.5\n",
    "    decay_speed = 0.3\n",
    "    # return min(math.pow(step_num, -decay_speed), step_num * math.pow(warmup_steps, -(1+decay_speed))) / np.sqrt(d_embedding) #og paper lr decay\n",
    "    return min(math.pow(step_num, -decay_speed), step_num * math.pow(warmup_steps, -(1+decay_speed))) * 10\n"
   ]
  },
  {
   "cell_type": "code",
   "execution_count": 127,
   "metadata": {},
   "outputs": [
    {
     "data": {
      "image/png": "[encoded data removed]",
      "text/plain": [
       "<Figure size 640x480 with 1 Axes>"
      ]
     },
     "metadata": {},
     "output_type": "display_data"
    }
   ],
   "source": [
    "x = [i for i in range(40000*5)]\n",
    "y = [lr_lambda(i//5) for i in x]\n",
    "plt.plot(x, y)\n",
    "plt.xlabel(f'Batch number (step number * {gradient_accumulation_steps})')\n",
    "plt.ylabel('Learning rate multiplier')\n",
    "plt.title('Learning rate decay')\n",
    "plt.grid()"
   ]
  },
  {
   "cell_type": "code",
   "execution_count": 32,
   "metadata": {},
   "outputs": [],
   "source": [
    "device = torch.device(\"cuda\" if torch.cuda.is_available() else \"cpu\")\n",
    "transformer = transformer.to(device)"
   ]
  },
  {
   "cell_type": "code",
   "execution_count": null,
   "metadata": {},
   "outputs": [],
   "source": [
    "scheduler = LambdaLR(optimizer, lr_lambda=lr_lambda)\n",
    "# we don't use label smoothing yet. migh implement later"
   ]
  },
  {
   "cell_type": "code",
   "execution_count": 34,
   "metadata": {},
   "outputs": [],
   "source": [
    "# for name, param in transformer.named_parameters():\n",
    "#     print(f\"{name}: {param.device}\")"
   ]
  },
  {
   "cell_type": "code",
   "execution_count": 35,
   "metadata": {},
   "outputs": [],
   "source": [
    "# for name, param in transformer.named_buffers():\n",
    "#     print(f\"{name}: {param.device}\")"
   ]
  },
  {
   "cell_type": "code",
   "execution_count": null,
   "metadata": {},
   "outputs": [],
   "source": [
    "version = 7"
   ]
  },
  {
   "cell_type": "code",
   "execution_count": null,
   "metadata": {},
   "outputs": [],
   "source": [
    "#ideally implement something that tracks live distirbution of gradients and plots it \n",
    "#learn about the details of adam optimiser beta params (and eps). Ankify them and their intuititions. also eps use"
   ]
  },
  {
   "cell_type": "code",
   "execution_count": null,
   "metadata": {},
   "outputs": [],
   "source": [
    "kek"
   ]
  },
  {
   "cell_type": "code",
   "execution_count": null,
   "metadata": {},
   "outputs": [
    {
     "data": {
      "image/png": "[encoded data removed]",
      "text/plain": [
       "<Figure size 1000x400 with 1 Axes>"
      ]
     },
     "metadata": {},
     "output_type": "display_data"
    },
    {
     "name": "stderr",
     "output_type": "stream",
     "text": [
      "  0%|          | 3/40045 [02:01<455:12:38, 40.93s/it]"
     ]
    }
   ],
   "source": [
    "#plotting\n",
    "losses = []\n",
    "batch_indices = []\n",
    "plt.ion()\n",
    "\n",
    "#utility\n",
    "count = 0\n",
    "optimizer.zero_grad()\n",
    "n_epochs = 5\n",
    "\n",
    "for epoch in range(1, n_epochs+1):\n",
    "    print(f\"Epoch {epoch}/{n_epochs}\")\n",
    "    for batch_data, batch_labels in tqdm(dataloader):\n",
    "        count += 1\n",
    "        batch_data = batch_data.squeeze(1).to(device)  # Remove the extra dimension\n",
    "        batch_labels = batch_labels.squeeze(1).to(device)  # Remove the extra dimension\n",
    "\n",
    "        output = transformer(batch_data, batch_labels, causal_mask=True)\n",
    "\n",
    "        loss = cel(output.permute(0, 2, 1)[:, :, :-1], batch_labels[:, 1:]) / gradient_accumulation_steps\n",
    "        loss.backward()\n",
    "\n",
    "        if count % gradient_accumulation_steps == 0:\n",
    "            torch.nn.utils.clip_grad_norm_(transformer.parameters(), 1.0)\n",
    "            optimizer.step()\n",
    "            scheduler.step()\n",
    "            optimizer.zero_grad()\n",
    "        \n",
    "        losses.append(loss.item())\n",
    "        batch_indices.append(count)\n",
    "        if (count % 100 == 0) or (count % dataloader.__len__() == 0):  # update the plot every 100 batches\n",
    "            clear_output(wait=True)\n",
    "            plt.figure(figsize=(10, 4))\n",
    "            plt.plot(batch_indices, losses, label='Training Loss')\n",
    "            plt.xlabel('Batch')\n",
    "            plt.ylabel('Loss')\n",
    "            plt.title('Live Training Loss')\n",
    "            plt.legend()\n",
    "            plt.grid(True)\n",
    "            if count % dataloader.__len__() == 0:\n",
    "                plt.savefig(f\"training_loss_v_{version}_epoch_{epoch}.png\")\n",
    "            plt.show()\n",
    "\n",
    "    torch.save(transformer.state_dict(), f\"transformer_v{version}_epoch_{epoch}.pth\")"
   ]
  },
  {
   "cell_type": "code",
   "execution_count": null,
   "metadata": {},
   "outputs": [],
   "source": []
  },
  {
   "cell_type": "code",
   "execution_count": 121,
   "metadata": {},
   "outputs": [],
   "source": [
    "# #version for off the shelf implemntation\n",
    "# #plotting\n",
    "# losses = []\n",
    "# batch_indices = []\n",
    "# plt.ion()\n",
    "\n",
    "# #utility\n",
    "# count = 0\n",
    "# optimizer.zero_grad()\n",
    "\n",
    "# for batch_data, batch_labels in tqdm(dataloader):\n",
    "#     count += 1\n",
    "#     batch_data = batch_data.squeeze(1).to(device)  # Remove the extra dimension\n",
    "#     batch_labels = batch_labels.squeeze(1).to(device)  # Remove the extra dimension\n",
    "\n",
    "#     output = transformer(batch_data, batch_data)\n",
    "#     # loss = cel(output.permute(0, 2, 1), batch_labels) / gradient_accumulation_steps\n",
    "#     loss = cel(output.permute(1, 2, 0), batch_labels) / gradient_accumulation_steps\n",
    "#     loss.backward()\n",
    "\n",
    "#     if count % gradient_accumulation_steps == 0:\n",
    "#         torch.nn.utils.clip_grad_norm_(transformer.parameters(), 1.0)\n",
    "#         optimizer.step()\n",
    "#         # scheduler.step()\n",
    "#         optimizer.zero_grad()\n",
    "    \n",
    "#     losses.append(loss.item())\n",
    "#     batch_indices.append(count)\n",
    "#     if count % 100 == 0:  # update the plot every 100 batches\n",
    "#         clear_output(wait=True)\n",
    "#         plt.figure(figsize=(10, 4))\n",
    "#         plt.plot(batch_indices, losses, label='Training Loss')\n",
    "#         plt.xlabel('Batch')\n",
    "#         plt.ylabel('Loss')\n",
    "#         plt.title('Live Training Loss')\n",
    "#         plt.legend()\n",
    "#         plt.grid(True)\n",
    "#         plt.show()\n",
    "\n",
    "#     if count % 10000 == 0:\n",
    "#         torch.save(transformer.state_dict(), f\"transformer_batch_{count}_v{version}.pth\")\n",
    "#         plt.savefig(f\"training_loss_batch_{count}_v{version}.png\")"
   ]
  },
  {
   "cell_type": "code",
   "execution_count": 122,
   "metadata": {},
   "outputs": [],
   "source": [
    "# torch.save(transformer.state_dict(), f\"transformer_final_v{version}.pth\")"
   ]
  },
  {
   "cell_type": "code",
   "execution_count": 233,
   "metadata": {},
   "outputs": [
    {
     "data": {
      "text/plain": [
       "<All keys matched successfully>"
      ]
     },
     "execution_count": 233,
     "metadata": {},
     "output_type": "execute_result"
    }
   ],
   "source": [
    "transformer.load_state_dict(torch.load(\"transformer_epoch_3_v7.pth\", map_location=torch.device('cpu')))"
   ]
  },
  {
   "cell_type": "code",
   "execution_count": null,
   "metadata": {},
   "outputs": [],
   "source": []
  },
  {
   "cell_type": "code",
   "execution_count": null,
   "metadata": {},
   "outputs": [],
   "source": [
    "#inference baby"
   ]
  },
  {
   "cell_type": "code",
   "execution_count": 149,
   "metadata": {},
   "outputs": [],
   "source": [
    "def translate_sentence(sentence, model, tokenizer, device, max_len=max_len):\n",
    "    model.eval()\n",
    "    with torch.no_grad():\n",
    "        # Tokenize input sentence and convert to tensor\n",
    "        # input_ids = tokenizer.encode(sentence, return_tensors=\"pt\").to(device)\n",
    "        input_ids = tokenizer(sentence, return_tensors='pt', padding='max_length', max_length=max_len, truncation=True)['input_ids']\n",
    "\n",
    "        # Create attention mask (1 for non-pad tokens)\n",
    "        encoder_padding_mask = create_padding_mask(input_ids, pad_token_id=0)\n",
    "\n",
    "        # Pass through encoder\n",
    "        input_ids = model.embedding(input_ids)\n",
    "        encoder_outputs = model.encoder(input_ids, padding_mask=encoder_padding_mask)\n",
    "\n",
    "        # Initialize decoder input with BOS token\n",
    "        # decoder_input = torch.tensor([[tokenizer.bos_token_id]], device=device)\n",
    "        decoder_input = torch.tensor([[tokenizer.cls_token_id]], device=device)\n",
    "\n",
    "        translated_tokens = []\n",
    "\n",
    "        for i in range(max_len):\n",
    "            # Create causal mask and decoder attention mask if needed\n",
    "            decoder_padding_mask = create_padding_mask(decoder_input)\n",
    "            decoder_input_embedded = model.embedding(decoder_input)\n",
    "            filler = torch.zeros(encoder_outputs.size(0), encoder_outputs.size(1) - decoder_input_embedded.size(1), encoder_outputs.size(2))\n",
    "            decoder_input_embedded = torch.cat([decoder_input_embedded, filler], dim=1)\n",
    "            filler = torch.zeros(decoder_padding_mask.size(0), encoder_padding_mask.size(1) - decoder_padding_mask.size(1))\n",
    "            decoder_padding_mask = torch.cat([decoder_padding_mask, filler], dim=1)\n",
    "            # decoder_input_embedded = decoder_input_embedded.expand(encoder_outputs.size())\n",
    "\n",
    "            # Forward pass through model\n",
    "            outputs = model.decoder(\n",
    "                decoder_input_embedded,\n",
    "                encoder_outputs,\n",
    "                causal_mask=True,\n",
    "                # causal_mask=False,\n",
    "                decoder_padding_mask=decoder_padding_mask,\n",
    "                encoder_padding_mask=encoder_padding_mask\n",
    "            )\n",
    "\n",
    "            next_token_logits = outputs[:, i, :]  # (1, vocab_size)\n",
    "\n",
    "            # Pick token with highest probability\n",
    "            next_token_id = torch.argmax(next_token_logits, dim=-1).item()\n",
    "\n",
    "            # Append predicted token\n",
    "            translated_tokens.append(next_token_id)\n",
    "\n",
    "\n",
    "            # Update decoder input\n",
    "            decoder_input = torch.cat(\n",
    "                [decoder_input, torch.tensor([[next_token_id]], device=device)], dim=1\n",
    "            )\n",
    "\n",
    "            # Break if EOS\n",
    "            # if next_token_id == tokenizer.eos_token_id:\n",
    "            if next_token_id == tokenizer.sep_token_id:\n",
    "                break\n",
    "\n",
    "        # Decode tokens into sentence\n",
    "        translated_sentence = tokenizer.decode(translated_tokens, skip_special_tokens=True)\n",
    "        return translated_sentence\n",
    "\n"
   ]
  },
  {
   "cell_type": "code",
   "execution_count": 248,
   "metadata": {},
   "outputs": [],
   "source": [
    "def translate_sentence_beam_search(sentence, model, tokenizer, device, max_len=max_len, beam_width=3, length_penalty=0.6):\n",
    "    # length_penalty = 0 makes it equivalent to normal beam search\n",
    "    model.eval()\n",
    "    with torch.no_grad():\n",
    "        # Tokenize input sentence and convert to tensor\n",
    "        # input_ids = tokenizer.encode(sentence, return_tensors=\"pt\").to(device)\n",
    "        input_ids = tokenizer(sentence, return_tensors='pt', padding='max_length', max_length=max_len, truncation=True)['input_ids']\n",
    "\n",
    "        # Create attention mask (1 for non-pad tokens)\n",
    "        encoder_padding_mask = create_padding_mask(input_ids, pad_token_id=0)\n",
    "\n",
    "        # Pass through encoder\n",
    "        input_ids = model.embedding(input_ids)\n",
    "        encoder_outputs = model.encoder(input_ids, padding_mask=encoder_padding_mask)\n",
    "\n",
    "        # Initialize decoder input with BOS token\n",
    "        # decoder_input = torch.tensor([[tokenizer.bos_token_id]], device=device)\n",
    "        decoder_input = torch.tensor([[tokenizer.cls_token_id]], device=device)\n",
    "\n",
    "        # translated_tokens = []\n",
    "        # Beam search variables\n",
    "        hypotheses = [(decoder_input, 0)]  # List of (current_sequence, cumulative_log_prob)\n",
    "        completed_hypotheses = []\n",
    "\n",
    "        for i in range(max_len):\n",
    "            all_candidates = []\n",
    "            for seq, cumulative_log_prob in hypotheses:\n",
    "                # Create causal mask and decoder attention mask if needed\n",
    "                decoder_padding_mask = create_padding_mask(seq)\n",
    "                decoder_input_embedded = model.embedding(seq)\n",
    "                filler = torch.zeros(encoder_outputs.size(0), encoder_outputs.size(1) - decoder_input_embedded.size(1), encoder_outputs.size(2))\n",
    "                decoder_input_embedded = torch.cat([decoder_input_embedded, filler], dim=1)\n",
    "                filler = torch.zeros(decoder_padding_mask.size(0), encoder_padding_mask.size(1) - decoder_padding_mask.size(1))\n",
    "                decoder_padding_mask = torch.cat([decoder_padding_mask, filler], dim=1)\n",
    "                # decoder_input_embedded = decoder_input_embedded.expand(encoder_outputs.size())\n",
    "\n",
    "                # Forward pass through model\n",
    "                outputs = model.decoder(\n",
    "                    decoder_input_embedded,\n",
    "                    encoder_outputs,\n",
    "                    causal_mask=True,\n",
    "                    # causal_mask=False,\n",
    "                    decoder_padding_mask=decoder_padding_mask,\n",
    "                    encoder_padding_mask=encoder_padding_mask\n",
    "                )\n",
    "\n",
    "                next_token_logits = outputs[:, i, :]  # (1, vocab_size)\n",
    "                next_token_probs = torch.log_softmax(next_token_logits, dim=-1).squeeze(0)\n",
    "\n",
    "                # Get top `beam_width` tokens and their log probabilities\n",
    "                topk_probs, topk_ids = torch.topk(next_token_probs, beam_width)\n",
    "\n",
    "                # Create new candidates\n",
    "                for i in range(beam_width):\n",
    "                    new_seq = torch.cat([seq, topk_ids[i].unsqueeze(0).unsqueeze(0)], dim=1)\n",
    "                    new_log_prob = cumulative_log_prob + topk_probs[i].item()\n",
    "                    all_candidates.append((new_seq, new_log_prob))\n",
    "\n",
    "            # Sort all candidates by cumulative log probability and keep the top `beam_width`\n",
    "            all_candidates = sorted(all_candidates, key=lambda x: x[1], reverse=True)\n",
    "            hypotheses = all_candidates[:beam_width]\n",
    "\n",
    "            # Check for completed hypotheses (those ending with SEP token)\n",
    "            new_hypotheses = []  # Create a new list for remaining hypotheses\n",
    "            for seq, log_prob in hypotheses:\n",
    "                if seq[0, -1].item() == tokenizer.sep_token_id:  # Use .item() to extract scalar value\n",
    "                    completed_hypotheses.append((seq, log_prob / (seq.shape[1] ** length_penalty)))  # Apply length penalty\n",
    "                else:\n",
    "                    new_hypotheses.append((seq, log_prob))  # Keep this hypothesis if not completed\n",
    "            hypotheses = new_hypotheses  # Update the hypotheses list\n",
    "\n",
    "            # If all hypotheses are completed, stop early\n",
    "            if len(hypotheses) == 0:\n",
    "                break\n",
    "        \n",
    "        # If no completed hypotheses, use the current hypotheses\n",
    "        if len(completed_hypotheses) == 0:\n",
    "            completed_hypotheses = [(h[0], h[1] / (h[0].shape[1] ** length_penalty)) for h in hypotheses]\n",
    "        \n",
    "        # Select the best hypothesis (highest log probability)\n",
    "        best_hypothesis = max(completed_hypotheses, key=lambda x: x[1])[0]\n",
    "\n",
    "        # Decode tokens into sentence\n",
    "        translated_sentence = tokenizer.decode(best_hypothesis.squeeze(0), skip_special_tokens=True)\n",
    "        return translated_sentence\n",
    "\n"
   ]
  },
  {
   "cell_type": "code",
   "execution_count": 42,
   "metadata": {},
   "outputs": [],
   "source": [
    "#for my local work \n",
    "# device = torch.device(\"cpu\")"
   ]
  },
  {
   "cell_type": "code",
   "execution_count": 154,
   "metadata": {},
   "outputs": [
    {
     "name": "stdout",
     "output_type": "stream",
     "text": [
      "je to najväčšia krajina.\n"
     ]
    }
   ],
   "source": [
    "print(translate_sentence(\"Slovakia is a beautiful country.\", transformer, tokenizer, device=\"cpu\"))"
   ]
  },
  {
   "cell_type": "code",
   "execution_count": 155,
   "metadata": {},
   "outputs": [
    {
     "name": "stdout",
     "output_type": "stream",
     "text": [
      "po prvýmôže výzvy a po získavaní po výsledku.\n"
     ]
    }
   ],
   "source": [
    "print(translate_sentence(\"Relations between the European Union and Russia following the assassination of journalist.\", transformer, tokenizer, device=\"cpu\"))"
   ]
  },
  {
   "cell_type": "code",
   "execution_count": 156,
   "metadata": {},
   "outputs": [
    {
     "name": "stdout",
     "output_type": "stream",
     "text": [
      "predchádzajúcich rokovaniach o predchádzajúcom z predchádzajúcich rokov.\n"
     ]
    }
   ],
   "source": [
    "print(translate_sentence(\"Approval of Minutes of previous sitting: see Minutes.\", transformer, tokenizer, device=\"cpu\"))"
   ]
  },
  {
   "cell_type": "code",
   "execution_count": 245,
   "metadata": {},
   "outputs": [
    {
     "name": "stdout",
     "output_type": "stream",
     "text": [
      "je široká krajina.\n"
     ]
    }
   ],
   "source": [
    "print(translate_sentence_beam_search(\"Slovakia is a beautiful country.\", transformer, tokenizer, device=\"cpu\"))"
   ]
  },
  {
   "cell_type": "code",
   "execution_count": 185,
   "metadata": {},
   "outputs": [
    {
     "name": "stdout",
     "output_type": "stream",
     "text": [
      "predchádzajúceádzaádzaádza z predádzajúceádzaádzajúádzajúádzaádzaádzajúádzaádzaádzaádzaádzaádza.\n"
     ]
    }
   ],
   "source": [
    "print(translate_sentence_beam_search(\"Approval of Minutes of previous sitting: see Minutes.\", transformer, tokenizer, device=\"cpu\"))"
   ]
  },
  {
   "cell_type": "code",
   "execution_count": null,
   "metadata": {},
   "outputs": [],
   "source": []
  },
  {
   "cell_type": "markdown",
   "metadata": {},
   "source": [
    "project idea \\\n",
    "it can predict sequence of numbers, in words. \\\n",
    "two four six eight ten - twelve \\\n",
    "three six nine twelve - fifteen \\\n",
    "could be arithmetic and geometric. I will generate them, code up the number to string mapper, pass it mapped to strings"
   ]
  },
  {
   "cell_type": "code",
   "execution_count": null,
   "metadata": {},
   "outputs": [],
   "source": []
  }
 ],
 "metadata": {
  "kernelspec": {
   "display_name": "ml_project_venv",
   "language": "python",
   "name": "python3"
  },
  "language_info": {
   "codemirror_mode": {
    "name": "ipython",
    "version": 3
   },
   "file_extension": ".py",
   "mimetype": "text/x-python",
   "name": "python",
   "nbconvert_exporter": "python",
   "pygments_lexer": "ipython3",
   "version": "3.7.6"
  }
 },
 "nbformat": 4,
 "nbformat_minor": 2
}
